{
 "cells": [
  {
   "cell_type": "markdown",
   "id": "3b6a0423-697c-4c11-80fa-544a0ad78696",
   "metadata": {},
   "source": [
    "Q1 -: Create a Vehicle class with an init method having instance variables as name_of_vehicle, max_speed and average of vehicle."
   ]
  },
  {
   "cell_type": "code",
   "execution_count": 8,
   "id": "17d6cf8c-972d-4a07-9e63-1006b5d2708e",
   "metadata": {},
   "outputs": [],
   "source": [
    "class vehicle :\n",
    "    \n",
    "    def __init__(self, name_of_vehicle, max_speed, average_of_vehicle) :\n",
    "        \n",
    "        self.name_of_vehicle = name_of_vehicle\n",
    "        self.max_speed = max_speed\n",
    "        self.average_of_vehicle = average_of_vehicle\n",
    "        \n",
    "    def return_vehicle_details(self) :\n",
    "        return self.name_of_vehicle, self.max_speed, self.average_of_vehicle\n",
    "    "
   ]
  },
  {
   "cell_type": "code",
   "execution_count": 9,
   "id": "af150dbe-7705-455b-aa32-f493b51e408c",
   "metadata": {},
   "outputs": [],
   "source": [
    "naman = vehicle('Swift Dezire', 220, 25)"
   ]
  },
  {
   "cell_type": "code",
   "execution_count": 10,
   "id": "51451b32-a3be-474f-ae46-41b6cb97d32f",
   "metadata": {},
   "outputs": [
    {
     "data": {
      "text/plain": [
       "220"
      ]
     },
     "execution_count": 10,
     "metadata": {},
     "output_type": "execute_result"
    }
   ],
   "source": [
    "naman.max_speed"
   ]
  },
  {
   "cell_type": "code",
   "execution_count": 11,
   "id": "c204b3b8-d5d4-44ff-93e9-528482c17ec9",
   "metadata": {},
   "outputs": [
    {
     "data": {
      "text/plain": [
       "('Swift Dezire', 220, 25)"
      ]
     },
     "execution_count": 11,
     "metadata": {},
     "output_type": "execute_result"
    }
   ],
   "source": [
    "naman.return_vehicle_details()"
   ]
  },
  {
   "cell_type": "code",
   "execution_count": null,
   "id": "a0c41d84-6300-452c-bd58-45bcbd3f22bf",
   "metadata": {},
   "outputs": [],
   "source": []
  },
  {
   "cell_type": "markdown",
   "id": "856cc1a1-1ea9-4b54-8640-3482171d195b",
   "metadata": {},
   "source": [
    "Q2 -: Create a child class car from the vehicles class created in Ques1, Which will inherit the vehicle class. Create a method named seating_capacity\n",
    "which takes capacity as an argument and returns the name of the vehicle and its seating capacity."
   ]
  },
  {
   "cell_type": "code",
   "execution_count": 12,
   "id": "b7d705f5-9857-4037-8220-064e600d6731",
   "metadata": {},
   "outputs": [],
   "source": [
    "class car(vehicle) :\n",
    "    def seating_capacity(self, capacity):\n",
    "        self.capacity = capacity\n",
    "        return f\"Car Name : {self.name_of_vehicle}, Capacity : {self.capacity}\""
   ]
  },
  {
   "cell_type": "code",
   "execution_count": 13,
   "id": "af2c1b03-c713-4998-911d-f8985238a476",
   "metadata": {},
   "outputs": [],
   "source": [
    "c = car('Thar', 250, 18)"
   ]
  },
  {
   "cell_type": "code",
   "execution_count": 14,
   "id": "d7704023-2560-4485-8277-8cf987feb5c3",
   "metadata": {},
   "outputs": [
    {
     "data": {
      "text/plain": [
       "'Car Name : Thar, Capacity : 4'"
      ]
     },
     "execution_count": 14,
     "metadata": {},
     "output_type": "execute_result"
    }
   ],
   "source": [
    "c.seating_capacity(4)"
   ]
  },
  {
   "cell_type": "code",
   "execution_count": null,
   "id": "49ba74b4-f5ad-491c-a84f-2077b875f058",
   "metadata": {},
   "outputs": [],
   "source": []
  },
  {
   "cell_type": "code",
   "execution_count": null,
   "id": "dfd810ec-b7c4-4e44-ab13-738e23d6d5dd",
   "metadata": {},
   "outputs": [],
   "source": []
  },
  {
   "cell_type": "markdown",
   "id": "8c75551d-c67f-4a1b-a9bf-c4cb17954a7e",
   "metadata": {},
   "source": [
    "Q3 -: What is multiple inheritance ? Write a python code to demonstrate multiple inheritance."
   ]
  },
  {
   "cell_type": "markdown",
   "id": "0170c926-51b0-4c06-8499-d8809817d199",
   "metadata": {},
   "source": [
    "If we have a class1 and class2 and if we can inherit both the classes in another class name for example class3 then it is called as multiple inheritance\n",
    "\n",
    "suppose we have one mother and father and we can inherit both of them through their child. it is known as multiple inheritance"
   ]
  },
  {
   "cell_type": "code",
   "execution_count": 25,
   "id": "0074da77-3667-4e3a-8ca6-c537c7764a65",
   "metadata": {},
   "outputs": [],
   "source": [
    "class class1 :\n",
    "    \n",
    "    def test_class1(self) :\n",
    "        return 'this is a method for class1'"
   ]
  },
  {
   "cell_type": "code",
   "execution_count": 26,
   "id": "e42b7417-012c-490c-9e63-5796493ad0d8",
   "metadata": {},
   "outputs": [],
   "source": [
    "class class2 :\n",
    "    \n",
    "    def test_class2(self) :\n",
    "        return 'this is a method for class2'"
   ]
  },
  {
   "cell_type": "code",
   "execution_count": 29,
   "id": "dbf4236c-0649-4d9f-9034-ddec9eda424a",
   "metadata": {},
   "outputs": [],
   "source": [
    "class class3(class1, class2) :    # -> at this point we are inherit class1 and class2 in a separate class name class3 \n",
    "    pass"
   ]
  },
  {
   "cell_type": "code",
   "execution_count": 30,
   "id": "64d42e03-7c41-4636-8ec3-e599788afdb8",
   "metadata": {},
   "outputs": [],
   "source": [
    "obj_class3 = class3()    # -> Now we have to define the object or variable for that class3 so that we can access it "
   ]
  },
  {
   "cell_type": "code",
   "execution_count": 31,
   "id": "439221a9-055e-49a2-9318-6501db026aaa",
   "metadata": {},
   "outputs": [
    {
     "data": {
      "text/plain": [
       "'this is a method for class1'"
      ]
     },
     "execution_count": 31,
     "metadata": {},
     "output_type": "execute_result"
    }
   ],
   "source": [
    "obj_class3.test_class1()"
   ]
  },
  {
   "cell_type": "code",
   "execution_count": 32,
   "id": "16b0cf58-0b97-477f-b97d-1fb1ac16b807",
   "metadata": {},
   "outputs": [
    {
     "data": {
      "text/plain": [
       "'this is a method for class2'"
      ]
     },
     "execution_count": 32,
     "metadata": {},
     "output_type": "execute_result"
    }
   ],
   "source": [
    "obj_class3.test_class2()"
   ]
  },
  {
   "cell_type": "markdown",
   "id": "fafe73ad-5d0a-4b4d-82cd-eb819754e1b7",
   "metadata": {},
   "source": [
    "We can take one more example "
   ]
  },
  {
   "cell_type": "code",
   "execution_count": 33,
   "id": "235d903a-b067-46b9-909c-a8edb0651a22",
   "metadata": {},
   "outputs": [],
   "source": [
    "class mother:\n",
    "    def m_mother(self):\n",
    "        return 'this is a class for mother'"
   ]
  },
  {
   "cell_type": "code",
   "execution_count": 34,
   "id": "bfb5fe2c-a20e-43ef-8de5-57c0ae6b9333",
   "metadata": {},
   "outputs": [],
   "source": [
    "class father:\n",
    "    def f_father(self):\n",
    "        return 'this is a class for father'"
   ]
  },
  {
   "cell_type": "code",
   "execution_count": 35,
   "id": "bf174129-dc4f-4cae-bac0-a865627f2351",
   "metadata": {},
   "outputs": [],
   "source": [
    "class child(mother, father) :  # -> Now we are inheriting both mother and father class through child class\n",
    "    pass"
   ]
  },
  {
   "cell_type": "code",
   "execution_count": 36,
   "id": "73cc0ed4-da41-42b8-aa3f-de212edc26cd",
   "metadata": {},
   "outputs": [],
   "source": [
    "obj_child = child()"
   ]
  },
  {
   "cell_type": "code",
   "execution_count": 37,
   "id": "f8598cb1-1b01-4127-b9f7-0b1a918c5131",
   "metadata": {},
   "outputs": [
    {
     "data": {
      "text/plain": [
       "'this is a class for father'"
      ]
     },
     "execution_count": 37,
     "metadata": {},
     "output_type": "execute_result"
    }
   ],
   "source": [
    "obj_child.f_father()"
   ]
  },
  {
   "cell_type": "code",
   "execution_count": 38,
   "id": "924667b9-7206-4292-8493-86e9db294978",
   "metadata": {},
   "outputs": [
    {
     "data": {
      "text/plain": [
       "'this is a class for mother'"
      ]
     },
     "execution_count": 38,
     "metadata": {},
     "output_type": "execute_result"
    }
   ],
   "source": [
    "obj_child.m_mother()"
   ]
  },
  {
   "cell_type": "code",
   "execution_count": null,
   "id": "f6ed1f21-56b6-498f-ba30-b9ab684ba153",
   "metadata": {},
   "outputs": [],
   "source": []
  },
  {
   "cell_type": "markdown",
   "id": "b2a259b3-93f7-4669-8e13-4ddee55b3816",
   "metadata": {},
   "source": [
    "Q4 -: What are getter and setter in python ? Create a class and create a getter and setter method in this class."
   ]
  },
  {
   "cell_type": "raw",
   "id": "0990b9c3-a3f4-4d07-8284-86b7d12cb843",
   "metadata": {},
   "source": [
    "Getter: A method that allows you to access an attribute in a given class. \n",
    "\n",
    "Setter: A method that allows you to set or mutate the value of an attribute in a class."
   ]
  },
  {
   "cell_type": "code",
   "execution_count": 1,
   "id": "01332b9c-7e8f-443c-8263-7788902901d4",
   "metadata": {},
   "outputs": [],
   "source": [
    "class subject:\n",
    "    \n",
    "    def __init__(self,subject_name, subject_cost):\n",
    "        self.subject_name = subject_name\n",
    "        self.__subject_cost = subject_cost\n",
    "        \n",
    "    @property\n",
    "    def subject_cost_access(self):\n",
    "        return self.__subject_cost\n",
    "    \n",
    "    @subject_cost_access.setter\n",
    "    def subject_cost_set(self, cost):\n",
    "        if cost <= 1000:\n",
    "            pass\n",
    "        else :\n",
    "            self.__subject_cost = cost\n",
    "            \n",
    "    @subject_cost_access.getter\n",
    "    def subject_cost_get(self):\n",
    "        return self.__subject_cost\n",
    "        \n",
    "    @subject_cost_access.deleter\n",
    "    def subject_cost_del(self):\n",
    "        del self.__subject_cost"
   ]
  },
  {
   "cell_type": "code",
   "execution_count": 2,
   "id": "9b8cde68-a04d-49e4-9256-17348c0865bd",
   "metadata": {},
   "outputs": [],
   "source": [
    "s = subject('data science masters', 3000)"
   ]
  },
  {
   "cell_type": "code",
   "execution_count": 3,
   "id": "63070aed-2b26-426c-9064-230231196258",
   "metadata": {},
   "outputs": [],
   "source": [
    "s.subject_cost_set = 1000"
   ]
  },
  {
   "cell_type": "code",
   "execution_count": 4,
   "id": "4ea15a5f-e037-4ca6-8ecf-9218ff253772",
   "metadata": {},
   "outputs": [],
   "source": [
    "del s.subject_cost_del"
   ]
  },
  {
   "cell_type": "code",
   "execution_count": 5,
   "id": "c3ab9c6f-ce8f-4799-a1d9-86f2d2ac9a0c",
   "metadata": {},
   "outputs": [
    {
     "ename": "AttributeError",
     "evalue": "'subject' object has no attribute '_subject__subject_cost'",
     "output_type": "error",
     "traceback": [
      "\u001b[0;31m---------------------------------------------------------------------------\u001b[0m",
      "\u001b[0;31mAttributeError\u001b[0m                            Traceback (most recent call last)",
      "Cell \u001b[0;32mIn[5], line 1\u001b[0m\n\u001b[0;32m----> 1\u001b[0m \u001b[43ms\u001b[49m\u001b[38;5;241;43m.\u001b[39;49m\u001b[43msubject_cost_access\u001b[49m\n",
      "Cell \u001b[0;32mIn[1], line 9\u001b[0m, in \u001b[0;36msubject.subject_cost_access\u001b[0;34m(self)\u001b[0m\n\u001b[1;32m      7\u001b[0m \u001b[38;5;129m@property\u001b[39m\n\u001b[1;32m      8\u001b[0m \u001b[38;5;28;01mdef\u001b[39;00m \u001b[38;5;21msubject_cost_access\u001b[39m(\u001b[38;5;28mself\u001b[39m):\n\u001b[0;32m----> 9\u001b[0m     \u001b[38;5;28;01mreturn\u001b[39;00m \u001b[38;5;28;43mself\u001b[39;49m\u001b[38;5;241;43m.\u001b[39;49m\u001b[43m__subject_cost\u001b[49m\n",
      "\u001b[0;31mAttributeError\u001b[0m: 'subject' object has no attribute '_subject__subject_cost'"
     ]
    }
   ],
   "source": [
    "s.subject_cost_access"
   ]
  },
  {
   "cell_type": "code",
   "execution_count": 6,
   "id": "db2035d3-23e1-4207-8def-2278b3d9ab07",
   "metadata": {},
   "outputs": [],
   "source": [
    "s.subject_cost_set = 2000"
   ]
  },
  {
   "cell_type": "code",
   "execution_count": 7,
   "id": "22016a30-bfbe-4c01-9649-fde3cadabe68",
   "metadata": {},
   "outputs": [
    {
     "data": {
      "text/plain": [
       "2000"
      ]
     },
     "execution_count": 7,
     "metadata": {},
     "output_type": "execute_result"
    }
   ],
   "source": [
    "s.subject_cost_get"
   ]
  },
  {
   "cell_type": "markdown",
   "id": "34a76aa7-db00-47c4-904f-f6eba7a5c804",
   "metadata": {},
   "source": [
    "Now lets take one more example"
   ]
  },
  {
   "cell_type": "code",
   "execution_count": 18,
   "id": "9251eb0e-c55e-4d3c-b76c-a7dab049c474",
   "metadata": {},
   "outputs": [],
   "source": [
    "class mobile :\n",
    "    \n",
    "    def __init__ (self, year, make, model, c_speed) :\n",
    "        self.__year = year\n",
    "        self.__make = make\n",
    "        self.__model = model\n",
    "        self.__c_speed = 3.0\n",
    "        \n",
    "    def set_c_speed(self, c_speed):              # -> here we have define set speed means setter so that it can allow you to set or mutate the value\n",
    "        self.__c_speed = 3 if c_speed <= 0 else c_speed           # of an attribute\n",
    "        \n",
    "    def get_c_speed(self) :                        # -> here we have define get speed means getter so that it can allows you to access an attribute \n",
    "        return self.__c_speed                                      # in a given class"
   ]
  },
  {
   "cell_type": "code",
   "execution_count": 19,
   "id": "353a58a2-0729-44f1-a898-4080cab00171",
   "metadata": {},
   "outputs": [],
   "source": [
    "a = mobile(2020, 'Moto G60','Android 13', 4 )"
   ]
  },
  {
   "cell_type": "code",
   "execution_count": 20,
   "id": "45621fce-56f4-4466-aca7-07cf4dafe429",
   "metadata": {},
   "outputs": [
    {
     "data": {
      "text/plain": [
       "3.0"
      ]
     },
     "execution_count": 20,
     "metadata": {},
     "output_type": "execute_result"
    }
   ],
   "source": [
    "a.get_c_speed()"
   ]
  },
  {
   "cell_type": "code",
   "execution_count": 21,
   "id": "73645778-eb8e-4aa5-b736-d6e00816a753",
   "metadata": {},
   "outputs": [],
   "source": [
    "a.set_c_speed(4)"
   ]
  },
  {
   "cell_type": "code",
   "execution_count": 22,
   "id": "db590ee4-a70f-498a-8955-927f2dba310a",
   "metadata": {},
   "outputs": [
    {
     "data": {
      "text/plain": [
       "4"
      ]
     },
     "execution_count": 22,
     "metadata": {},
     "output_type": "execute_result"
    }
   ],
   "source": [
    "a.get_c_speed()"
   ]
  },
  {
   "cell_type": "code",
   "execution_count": 23,
   "id": "6144ce64-dbc5-41ae-b80f-07bea02008f2",
   "metadata": {},
   "outputs": [],
   "source": [
    "a.set_c_speed(0)"
   ]
  },
  {
   "cell_type": "code",
   "execution_count": 24,
   "id": "40de86c9-8594-435c-ba43-e6dee7986ceb",
   "metadata": {},
   "outputs": [
    {
     "data": {
      "text/plain": [
       "3"
      ]
     },
     "execution_count": 24,
     "metadata": {},
     "output_type": "execute_result"
    }
   ],
   "source": [
    "a.get_c_speed()"
   ]
  },
  {
   "cell_type": "code",
   "execution_count": null,
   "id": "0767d7f9-83f5-4218-bfc4-d6d0873230ae",
   "metadata": {},
   "outputs": [],
   "source": []
  },
  {
   "cell_type": "markdown",
   "id": "2963494e-9f0d-4695-984e-4d5b14d9aaf1",
   "metadata": {},
   "source": [
    "Q5 -: What is method overriding in python? Write a python code to demonstrate method overriding"
   ]
  },
  {
   "cell_type": "code",
   "execution_count": 40,
   "id": "edbe405a-020c-4b9a-a65d-5dabf0b64853",
   "metadata": {},
   "outputs": [],
   "source": [
    "# Method overriding in Python is when you have two methods with the same name that each perform different tasks.\n",
    "# This is an important feature of inheritance in Python. In method overriding, the child class can change its functions that are \n",
    "# defined by its ancestral classes."
   ]
  },
  {
   "cell_type": "code",
   "execution_count": 46,
   "id": "bc613d1b-0290-47ab-bdcd-b116eec7c781",
   "metadata": {},
   "outputs": [],
   "source": [
    "class A :\n",
    "    def name(self):\n",
    "        print('we are in class A')\n",
    "    \n",
    "    "
   ]
  },
  {
   "cell_type": "code",
   "execution_count": 47,
   "id": "92655a09-bd39-4466-97c3-53bd30e52498",
   "metadata": {},
   "outputs": [],
   "source": [
    "class B(A) :\n",
    "    # methon name() of class A is overriding in class B\n",
    "    def name(self):\n",
    "        print('we are in class B')"
   ]
  },
  {
   "cell_type": "code",
   "execution_count": 48,
   "id": "fab8a272-265f-4ac4-a03c-7d2963ee28b0",
   "metadata": {},
   "outputs": [],
   "source": [
    "obj = B()"
   ]
  },
  {
   "cell_type": "code",
   "execution_count": 50,
   "id": "a2894605-6616-473c-b9ea-a8a2783b7410",
   "metadata": {},
   "outputs": [
    {
     "name": "stdout",
     "output_type": "stream",
     "text": [
      "we are in class B\n"
     ]
    }
   ],
   "source": [
    "obj.name()"
   ]
  },
  {
   "cell_type": "code",
   "execution_count": 51,
   "id": "53125579-41ab-47c5-b0b1-bec06d4179a8",
   "metadata": {},
   "outputs": [
    {
     "name": "stdout",
     "output_type": "stream",
     "text": [
      "we are in class B\n"
     ]
    }
   ],
   "source": [
    "obj.name()"
   ]
  },
  {
   "cell_type": "code",
   "execution_count": null,
   "id": "7986b278-cf78-49cc-903a-a9a441d30eb8",
   "metadata": {},
   "outputs": [],
   "source": []
  },
  {
   "cell_type": "code",
   "execution_count": 52,
   "id": "6f15c519-4fca-4910-a6a6-b5bde9aaa349",
   "metadata": {},
   "outputs": [],
   "source": [
    "class Employee:\n",
    "    def __init__(self, name, base_pay):\n",
    "        self.name = name\n",
    "        self.base_pay = base_pay\n",
    "\n",
    "    def get_pay(self):\n",
    "        return self.base_pay"
   ]
  },
  {
   "cell_type": "code",
   "execution_count": 53,
   "id": "8e2c5e4c-b760-44f9-b987-92bcdab76092",
   "metadata": {},
   "outputs": [],
   "source": [
    "class SalesEmployee(Employee):\n",
    "    def __init__(self, name, base_pay, sales_incentive):\n",
    "        self.name = name\n",
    "        self.base_pay = base_pay\n",
    "        self.sales_incentive = sales_incentive"
   ]
  },
  {
   "cell_type": "code",
   "execution_count": 55,
   "id": "e80b09c6-8d2e-4b88-b73c-7c93b0ad7468",
   "metadata": {},
   "outputs": [],
   "source": [
    "Naman = SalesEmployee('Naman', 10000, 1500)"
   ]
  },
  {
   "cell_type": "code",
   "execution_count": 56,
   "id": "d1e2a8f4-5a9d-4be0-bc94-11d2622a8a32",
   "metadata": {},
   "outputs": [
    {
     "data": {
      "text/plain": [
       "10000"
      ]
     },
     "execution_count": 56,
     "metadata": {},
     "output_type": "execute_result"
    }
   ],
   "source": [
    "Naman.get_pay()"
   ]
  },
  {
   "cell_type": "code",
   "execution_count": 58,
   "id": "a0bf02c3-e5f2-4c9f-a98f-94ca01c7de1c",
   "metadata": {},
   "outputs": [],
   "source": [
    "om = Employee('om', 8000)"
   ]
  },
  {
   "cell_type": "code",
   "execution_count": 60,
   "id": "e6ff64a9-62ec-4907-98f6-dcf033c6f4ce",
   "metadata": {},
   "outputs": [
    {
     "data": {
      "text/plain": [
       "8000"
      ]
     },
     "execution_count": 60,
     "metadata": {},
     "output_type": "execute_result"
    }
   ],
   "source": [
    "om.base_pay"
   ]
  },
  {
   "cell_type": "code",
   "execution_count": 61,
   "id": "ea65abec-3d5a-436b-8fd8-0cd2c6ba1497",
   "metadata": {},
   "outputs": [
    {
     "data": {
      "text/plain": [
       "8000"
      ]
     },
     "execution_count": 61,
     "metadata": {},
     "output_type": "execute_result"
    }
   ],
   "source": [
    "om.get_pay()"
   ]
  },
  {
   "cell_type": "code",
   "execution_count": null,
   "id": "19b02468-29f3-454b-90ee-e9ec3e375968",
   "metadata": {},
   "outputs": [],
   "source": []
  },
  {
   "cell_type": "code",
   "execution_count": null,
   "id": "e6b11c7a-263c-4fe0-9e9c-fbdec717988b",
   "metadata": {},
   "outputs": [],
   "source": []
  },
  {
   "cell_type": "code",
   "execution_count": null,
   "id": "b3e3cd64-ef14-4954-9f61-c2b1006c048b",
   "metadata": {},
   "outputs": [],
   "source": []
  },
  {
   "cell_type": "code",
   "execution_count": null,
   "id": "bffed813-0427-4e77-9d54-e4a6038d751f",
   "metadata": {},
   "outputs": [],
   "source": []
  },
  {
   "cell_type": "code",
   "execution_count": null,
   "id": "3bff336e-88cf-43b7-b7e5-8837a719b7c0",
   "metadata": {},
   "outputs": [],
   "source": []
  },
  {
   "cell_type": "code",
   "execution_count": null,
   "id": "38408530-e66f-4a06-9219-573915c0cb73",
   "metadata": {},
   "outputs": [],
   "source": []
  },
  {
   "cell_type": "code",
   "execution_count": null,
   "id": "65166e07-50e8-4a14-8a62-c35b4fe4130a",
   "metadata": {},
   "outputs": [],
   "source": []
  },
  {
   "cell_type": "code",
   "execution_count": null,
   "id": "bca03ae6-80b3-43f0-958d-864d357ee615",
   "metadata": {},
   "outputs": [],
   "source": []
  },
  {
   "cell_type": "code",
   "execution_count": null,
   "id": "b242ed47-0968-40e9-99d0-8d23baea3c0a",
   "metadata": {},
   "outputs": [],
   "source": []
  },
  {
   "cell_type": "code",
   "execution_count": null,
   "id": "79884872-2963-454c-970a-2c11f3234a29",
   "metadata": {},
   "outputs": [],
   "source": []
  },
  {
   "cell_type": "code",
   "execution_count": null,
   "id": "02c12f47-1ef3-4f48-ace9-911479a952f5",
   "metadata": {},
   "outputs": [],
   "source": []
  },
  {
   "cell_type": "code",
   "execution_count": null,
   "id": "3cee501a-4f40-41a0-a762-47680f06c47e",
   "metadata": {},
   "outputs": [],
   "source": []
  },
  {
   "cell_type": "code",
   "execution_count": null,
   "id": "83c55735-8ec6-4dd1-84fe-1e5aba183337",
   "metadata": {},
   "outputs": [],
   "source": []
  },
  {
   "cell_type": "code",
   "execution_count": null,
   "id": "f370d096-960a-4dfa-9f4e-7a2fdfd2e658",
   "metadata": {},
   "outputs": [],
   "source": []
  },
  {
   "cell_type": "code",
   "execution_count": null,
   "id": "1e6a7f7a-cffa-4933-8862-3f49a98fa8b7",
   "metadata": {},
   "outputs": [],
   "source": []
  },
  {
   "cell_type": "code",
   "execution_count": null,
   "id": "370906b6-a188-4951-90d3-34829622dc15",
   "metadata": {},
   "outputs": [],
   "source": []
  },
  {
   "cell_type": "code",
   "execution_count": null,
   "id": "03eeb946-d251-48cd-a486-e973ff05fd90",
   "metadata": {},
   "outputs": [],
   "source": []
  },
  {
   "cell_type": "code",
   "execution_count": null,
   "id": "7650457a-a893-4d1f-bc2b-748ea5a9d55a",
   "metadata": {},
   "outputs": [],
   "source": []
  },
  {
   "cell_type": "code",
   "execution_count": null,
   "id": "c228a87d-1283-483c-a5b3-4cf0afe2c25e",
   "metadata": {},
   "outputs": [],
   "source": []
  },
  {
   "cell_type": "code",
   "execution_count": null,
   "id": "99192df7-4420-4b36-889c-f438bd857ad6",
   "metadata": {},
   "outputs": [],
   "source": []
  },
  {
   "cell_type": "code",
   "execution_count": null,
   "id": "622ac969-06fd-4585-939d-5dd0fe7394f0",
   "metadata": {},
   "outputs": [],
   "source": []
  }
 ],
 "metadata": {
  "kernelspec": {
   "display_name": "Python 3 (ipykernel)",
   "language": "python",
   "name": "python3"
  },
  "language_info": {
   "codemirror_mode": {
    "name": "ipython",
    "version": 3
   },
   "file_extension": ".py",
   "mimetype": "text/x-python",
   "name": "python",
   "nbconvert_exporter": "python",
   "pygments_lexer": "ipython3",
   "version": "3.10.8"
  }
 },
 "nbformat": 4,
 "nbformat_minor": 5
}
